{
 "cells": [
  {
   "cell_type": "code",
   "execution_count": null,
   "metadata": {
    "pycharm": {
     "name": "#%%\n"
    }
   },
   "outputs": [],
   "source": [
    "import pandas as pd\n",
    "from datetime import datetime\n",
    "import plotly.graph_objs as go\n",
    "import plotly.express as px"
   ]
  },
  {
   "cell_type": "code",
   "execution_count": null,
   "metadata": {
    "pycharm": {
     "name": "#%%\n"
    }
   },
   "outputs": [],
   "source": [
    "df = pd.read_csv('https://covid.ourworldindata.org/data/owid-covid-data.csv')\n",
    "whole_df = df.copy()"
   ]
  },
  {
   "cell_type": "code",
   "execution_count": null,
   "metadata": {
    "pycharm": {
     "name": "#%%\n"
    }
   },
   "outputs": [],
   "source": [
    "df = whole_df.copy()\n",
    "\n",
    "# Prune down the data a bit to make plotting more legible\n",
    "important_countries = set(df.query('population >= 1000000 and total_deaths >= 3000').iso_code)\n",
    "print(len(important_countries))\n",
    "df.query('iso_code in @important_countries', inplace=True)\n",
    "df.query('total_deaths > 0', inplace=True)\n",
    "\n",
    "# Smooth things out using a 7-day rolling average\n",
    "cols = ['total_deaths', 'new_deaths', 'total_deaths_per_million', 'new_deaths_per_million']\n",
    "df[[f'7day_{c}' for c in cols]] = df[cols].rolling(7).mean()\n",
    "\n",
    "df"
   ]
  },
  {
   "cell_type": "code",
   "execution_count": null,
   "metadata": {
    "pycharm": {
     "name": "#%%\n"
    }
   },
   "outputs": [],
   "source": [
    "# Isolate the last bit of data for each country\n",
    "last_df = pd.merge(df, df.query('new_deaths > 0').groupby('iso_code').date.max().reset_index(), on=['iso_code', 'date'])\n",
    "last_df"
   ]
  },
  {
   "cell_type": "code",
   "execution_count": null,
   "metadata": {},
   "outputs": [],
   "source": [
    "# Plot\n",
    "fig1 = px.line(df, x='7day_total_deaths_per_million', y='7day_new_deaths_per_million', line_group='iso_code', color='iso_code', render_mode='svg')\n",
    "fig2 = px.scatter(last_df, x='7day_total_deaths_per_million', y='7day_new_deaths_per_million', color='iso_code', text='location')\n",
    "fig = go.Figure(\n",
    "    data=list(fig1.data) + list(fig2.data),\n",
    "    layout=go.Layout(\n",
    "        yaxis=go.layout.YAxis(type='log', title='New deaths per million', range=(-3, 2)),\n",
    "        xaxis=go.layout.XAxis(title='Total deaths per million'),\n",
    "        title=f'Normalized Deaths (Updated {datetime.now()})'\n",
    "    )\n",
    ")\n",
    "# fig"
   ]
  },
  {
   "cell_type": "code",
   "execution_count": null,
   "metadata": {
    "pycharm": {
     "name": "#%%\n"
    }
   },
   "outputs": [],
   "source": [
    "fig.write_html('normalized_deaths.html', include_plotlyjs='cdn', full_html=True)"
   ]
  },
  {
   "cell_type": "code",
   "execution_count": null,
   "metadata": {},
   "outputs": [],
   "source": []
  }
 ],
 "metadata": {
  "kernelspec": {
   "display_name": "Python 3 (ipykernel)",
   "language": "python",
   "name": "python3"
  },
  "language_info": {
   "codemirror_mode": {
    "name": "ipython",
    "version": 3
   },
   "file_extension": ".py",
   "mimetype": "text/x-python",
   "name": "python",
   "nbconvert_exporter": "python",
   "pygments_lexer": "ipython3",
   "version": "3.7.9"
  }
 },
 "nbformat": 4,
 "nbformat_minor": 1
}
